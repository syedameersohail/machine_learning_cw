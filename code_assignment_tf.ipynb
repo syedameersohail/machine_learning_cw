{
 "cells": [
  {
   "cell_type": "code",
   "execution_count": 13,
   "id": "7f5df80c-e878-495a-ace4-47724cdeb26c",
   "metadata": {},
   "outputs": [],
   "source": [
    "#https://keras.io/examples/vision/3D_image_classification/"
   ]
  },
  {
   "cell_type": "code",
   "execution_count": 2,
   "id": "3f2a33b5-80eb-4e2b-880f-c7475fa6f442",
   "metadata": {},
   "outputs": [],
   "source": [
    "import os #conda activate tf2\n",
    "import numpy as np\n",
    "import pandas as pd\n",
    "import shutil,os,glob\n",
    "\n",
    "from nibabel.testing import data_path\n",
    "import nibabel as nib\n",
    "from intensity_normalization.typing import Modality, TissueType\n",
    "from intensity_normalization.normalize.fcm import FCMNormalize\n",
    "from scipy.ndimage import gaussian_filter\n",
    "from scipy import ndimage\n",
    "import tensorflow as tf\n",
    "from tensorflow import *"
   ]
  },
  {
   "cell_type": "code",
   "execution_count": 2,
   "id": "0e06e841",
   "metadata": {},
   "outputs": [
    {
     "data": {
      "text/plain": [
       "'D:\\\\brains'"
      ]
     },
     "execution_count": 2,
     "metadata": {},
     "output_type": "execute_result"
    }
   ],
   "source": [
    "pwd"
   ]
  },
  {
   "cell_type": "code",
   "execution_count": 3,
   "id": "525badc2-fbd9-40b3-8a8d-5485ad3951b7",
   "metadata": {},
   "outputs": [],
   "source": [
    "parent_dir='D:\\\\brains'"
   ]
  },
  {
   "cell_type": "code",
   "execution_count": 4,
   "id": "df7346c0",
   "metadata": {},
   "outputs": [
    {
     "data": {
      "text/plain": [
       "(674, 15)"
      ]
     },
     "execution_count": 4,
     "metadata": {},
     "output_type": "execute_result"
    }
   ],
   "source": [
    "df=pd.read_excel('Classification_clean.xlsx')\n",
    "df.shape"
   ]
  },
  {
   "cell_type": "code",
   "execution_count": 5,
   "id": "73e06a6b",
   "metadata": {},
   "outputs": [
    {
     "data": {
      "text/plain": [
       "ID_CF                                    0\n",
       "FirstEpisodes_FEP__HealthyControl_HC_    0\n",
       "FEP_binary                               0\n",
       "Diagnosis                                0\n",
       "Gender                                   0\n",
       "dtype: int64"
      ]
     },
     "execution_count": 5,
     "metadata": {},
     "output_type": "execute_result"
    }
   ],
   "source": [
    "df.isnull().sum(axis=0).sort_values(ascending=False).head()"
   ]
  },
  {
   "cell_type": "code",
   "execution_count": 6,
   "id": "37eeb0ea",
   "metadata": {},
   "outputs": [
    {
     "data": {
      "text/plain": [
       "674"
      ]
     },
     "execution_count": 6,
     "metadata": {},
     "output_type": "execute_result"
    }
   ],
   "source": [
    "len(df['ID_CF'].unique())"
   ]
  },
  {
   "cell_type": "code",
   "execution_count": 7,
   "id": "57c5eb8a-012c-4232-a9da-309dc0444aed",
   "metadata": {},
   "outputs": [
    {
     "data": {
      "text/plain": [
       "0    451\n",
       "1     74\n",
       "4     52\n",
       "7     35\n",
       "5     25\n",
       "3     18\n",
       "2     17\n",
       "6      2\n",
       "Name: Diagnosis, dtype: int64"
      ]
     },
     "execution_count": 7,
     "metadata": {},
     "output_type": "execute_result"
    }
   ],
   "source": [
    "df['Diagnosis'].value_counts()"
   ]
  },
  {
   "cell_type": "code",
   "execution_count": 8,
   "id": "e5cba628-5528-42d6-93c4-68ed1cb4e8f6",
   "metadata": {},
   "outputs": [],
   "source": [
    "df['Target']=df['Diagnosis']>0"
   ]
  },
  {
   "cell_type": "code",
   "execution_count": 9,
   "id": "8cf2a62a-5492-4157-9023-a460c4829034",
   "metadata": {},
   "outputs": [
    {
     "data": {
      "text/plain": [
       "False    451\n",
       "True     223\n",
       "Name: Target, dtype: int64"
      ]
     },
     "execution_count": 9,
     "metadata": {},
     "output_type": "execute_result"
    }
   ],
   "source": [
    "df.Target.value_counts()"
   ]
  },
  {
   "cell_type": "code",
   "execution_count": 12,
   "id": "41be20bd-5e34-48bc-aa39-637bd55aa995",
   "metadata": {},
   "outputs": [],
   "source": [
    "#https://github.com/jcreinhold/intensity-normalization/blob/master/tutorials/5min_tutorial.rst"
   ]
  },
  {
   "cell_type": "code",
   "execution_count": 19,
   "id": "0190803a-c526-49f3-b008-8147b72c862a",
   "metadata": {},
   "outputs": [],
   "source": [
    "def read_nifti_file(filepath):\n",
    "    \"\"\"Read and load volume\"\"\"\n",
    "    # Read file\n",
    "    scan = nib.load(filepath)\n",
    "    # Get raw data\n",
    "    scan = scan.get_fdata()\n",
    "    return scan\n",
    "\n",
    "\n",
    "def normalize(volume):\n",
    "    \"\"\"Normalize the volume\"\"\"\n",
    "    min = -1000\n",
    "    max = 400\n",
    "    volume[volume < min] = min\n",
    "    volume[volume > max] = max\n",
    "    volume = (volume - min) / (max - min)\n",
    "    volume = volume.astype(\"float32\")\n",
    "    return volume\n",
    "\n",
    "\n",
    "def resize_volume(img):\n",
    "    \"\"\"Resize across z-axis\"\"\"\n",
    "    # Set the desired depth\n",
    "    desired_depth = 64\n",
    "    desired_width = 128\n",
    "    desired_height = 128\n",
    "    # Get current depth\n",
    "    current_depth = img.shape[-1]\n",
    "    current_width = img.shape[0]\n",
    "    current_height = img.shape[1]\n",
    "    # Compute depth factor\n",
    "    depth = current_depth / desired_depth\n",
    "    width = current_width / desired_width\n",
    "    height = current_height / desired_height\n",
    "    depth_factor = 1 / depth\n",
    "    width_factor = 1 / width\n",
    "    height_factor = 1 / height\n",
    "    # Rotate\n",
    "    img = ndimage.rotate(img, 90, reshape=False)\n",
    "    # Resize across z-axis\n",
    "    img = ndimage.zoom(img, (width_factor, height_factor, depth_factor), order=1)\n",
    "    return img\n",
    "\n",
    "\n",
    "def process_scan(path):\n",
    "    \"\"\"Read and resize volume\"\"\"\n",
    "    # Read scan\n",
    "    volume = read_nifti_file(path)\n",
    "    # Normalize\n",
    "    volume = normalize(volume)\n",
    "    # Resize width, height and depth\n",
    "    volume = resize_volume(volume)\n",
    "    return volume"
   ]
  },
  {
   "cell_type": "code",
   "execution_count": 277,
   "id": "2d392a87-956d-45ac-8709-ee2f04561edc",
   "metadata": {},
   "outputs": [
    {
     "data": {
      "text/html": [
       "<div>\n",
       "<style scoped>\n",
       "    .dataframe tbody tr th:only-of-type {\n",
       "        vertical-align: middle;\n",
       "    }\n",
       "\n",
       "    .dataframe tbody tr th {\n",
       "        vertical-align: top;\n",
       "    }\n",
       "\n",
       "    .dataframe thead th {\n",
       "        text-align: right;\n",
       "    }\n",
       "</style>\n",
       "<table border=\"1\" class=\"dataframe\">\n",
       "  <thead>\n",
       "    <tr style=\"text-align: right;\">\n",
       "      <th></th>\n",
       "      <th>ID_CF</th>\n",
       "      <th>Target</th>\n",
       "    </tr>\n",
       "  </thead>\n",
       "  <tbody>\n",
       "    <tr>\n",
       "      <th>0</th>\n",
       "      <td>CF_001</td>\n",
       "      <td>True</td>\n",
       "    </tr>\n",
       "    <tr>\n",
       "      <th>1</th>\n",
       "      <td>CF_002</td>\n",
       "      <td>True</td>\n",
       "    </tr>\n",
       "    <tr>\n",
       "      <th>2</th>\n",
       "      <td>CF_003</td>\n",
       "      <td>True</td>\n",
       "    </tr>\n",
       "    <tr>\n",
       "      <th>3</th>\n",
       "      <td>CF_004</td>\n",
       "      <td>True</td>\n",
       "    </tr>\n",
       "    <tr>\n",
       "      <th>4</th>\n",
       "      <td>CF_005</td>\n",
       "      <td>True</td>\n",
       "    </tr>\n",
       "    <tr>\n",
       "      <th>5</th>\n",
       "      <td>CF_007</td>\n",
       "      <td>True</td>\n",
       "    </tr>\n",
       "    <tr>\n",
       "      <th>6</th>\n",
       "      <td>CF_008</td>\n",
       "      <td>True</td>\n",
       "    </tr>\n",
       "    <tr>\n",
       "      <th>7</th>\n",
       "      <td>CF_009</td>\n",
       "      <td>True</td>\n",
       "    </tr>\n",
       "    <tr>\n",
       "      <th>8</th>\n",
       "      <td>CF_010</td>\n",
       "      <td>True</td>\n",
       "    </tr>\n",
       "    <tr>\n",
       "      <th>9</th>\n",
       "      <td>CF_011</td>\n",
       "      <td>True</td>\n",
       "    </tr>\n",
       "  </tbody>\n",
       "</table>\n",
       "</div>"
      ],
      "text/plain": [
       "    ID_CF  Target\n",
       "0  CF_001    True\n",
       "1  CF_002    True\n",
       "2  CF_003    True\n",
       "3  CF_004    True\n",
       "4  CF_005    True\n",
       "5  CF_007    True\n",
       "6  CF_008    True\n",
       "7  CF_009    True\n",
       "8  CF_010    True\n",
       "9  CF_011    True"
      ]
     },
     "execution_count": 277,
     "metadata": {},
     "output_type": "execute_result"
    }
   ],
   "source": [
    "df[['ID_CF','Target']].head(10)"
   ]
  },
  {
   "cell_type": "code",
   "execution_count": 3,
   "id": "0174598a-c534-4e30-81d3-7e21e749df40",
   "metadata": {},
   "outputs": [],
   "source": [
    "dir1='D:\\\\brains\\\\Target_normal'\n",
    "dir2='D:\\\\brains\\\\Target_abnormal'"
   ]
  },
  {
   "cell_type": "code",
   "execution_count": 284,
   "id": "09e5ea99-22d5-427b-b325-30e9bea0002a",
   "metadata": {
    "tags": []
   },
   "outputs": [
    {
     "name": "stdout",
     "output_type": "stream",
     "text": [
      "Total images: 761\n",
      "Total number of normal images in directory: 225\n",
      "Total number of abnormal images in directory: 453\n"
     ]
    }
   ],
   "source": [
    "n=0\n",
    "tmp1=[]\n",
    "index=0\n",
    "print('Total images:',len(glob.glob('*.gz')))\n",
    "for i in glob.glob('*.gz'): \n",
    "    pos1=i.find('CF')\n",
    "    pos2=pos1+6\n",
    "    pos3=i.find('CF')\n",
    "    pos4=pos3+6\n",
    "    \n",
    "    if i[pos3:pos4] in list(df['ID_CF'].values):\n",
    "        if df[df.loc[:,'ID_CF']==i[pos3:pos4]].Target.values[0]==True:\n",
    "            shutil.copyfile(parent_dir+'\\\\'+i, os.path.join(parent_dir, dir1+'\\\\'+i))\n",
    "            \n",
    "        else:\n",
    "            shutil.copyfile(parent_dir+'\\\\'+i, os.path.join(parent_dir, dir2+'\\\\'+i))\n",
    "\n",
    "print('Total number of normal images in directory:',len(os.listdir(dir1)))\n",
    "print('Total number of abnormal images in directory:',len(os.listdir(dir2)))"
   ]
  },
  {
   "cell_type": "code",
   "execution_count": 330,
   "id": "52318967-5424-448e-a110-d7c55ed0d11c",
   "metadata": {},
   "outputs": [
    {
     "name": "stdout",
     "output_type": "stream",
     "text": [
      "CF_383\n",
      "CF_645\n"
     ]
    }
   ],
   "source": [
    "a=[] #files to be removed from folder\n",
    "for i in os.listdir(dir2):\n",
    "    i=i[1:7]\n",
    "    if i not in a:\n",
    "        a.append(i)\n",
    "    else:\n",
    "        print(i)"
   ]
  },
  {
   "cell_type": "code",
   "execution_count": 331,
   "id": "f0ad8378-37b1-447a-939c-8b844721419c",
   "metadata": {},
   "outputs": [
    {
     "name": "stdout",
     "output_type": "stream",
     "text": [
      "CF_063\n",
      "CF_610\n"
     ]
    }
   ],
   "source": [
    "b=[]#files to be removed from folder\n",
    "for i in os.listdir(dir1):\n",
    "    i=i[1:7]\n",
    "    if i not in a:\n",
    "        a.append(i)\n",
    "    else:\n",
    "        print(i)"
   ]
  },
  {
   "cell_type": "code",
   "execution_count": 190,
   "id": "0891fb1f-90ee-43ee-98ea-9f6a00da96e7",
   "metadata": {},
   "outputs": [
    {
     "data": {
      "text/plain": [
       "False    451\n",
       "True     223\n",
       "Name: Target, dtype: int64"
      ]
     },
     "execution_count": 190,
     "metadata": {},
     "output_type": "execute_result"
    }
   ],
   "source": [
    "df['Target'].value_counts()"
   ]
  },
  {
   "cell_type": "markdown",
   "id": "349373fa-07eb-465a-b89b-f52b62e1f3ae",
   "metadata": {},
   "source": [
    "preprocessing \n",
    "- zscore normalisation\n",
    "- gaussian filtering\n",
    "- data augmentation"
   ]
  },
  {
   "cell_type": "code",
   "execution_count": 21,
   "id": "0fc95449-a1be-4547-b0c9-377013e466d8",
   "metadata": {},
   "outputs": [],
   "source": [
    "normal_mri_scans_pth=[os.path.join(os.getcwd(),dir1,i) for i in os.listdir(dir1)]\n",
    "abnormal_mri_scans_pth=[os.path.join(os.getcwd(),dir2,i) for i in os.listdir(dir2)]"
   ]
  },
  {
   "cell_type": "code",
   "execution_count": 22,
   "id": "04de5453-ab19-452c-8752-a84e12425ffa",
   "metadata": {},
   "outputs": [],
   "source": [
    "abnormal_scans = np.array([process_scan(path) for path in abnormal_mri_scans_pth])\n",
    "normal_scans = np.array([process_scan(path) for path in normal_mri_scans_pth])\n",
    "\n",
    "# For the CT scans having presence of viral pneumonia\n",
    "# assign 1, for the normal ones assign 0.\n",
    "abnormal_labels = np.array([1 for _ in range(len(abnormal_scans))])\n",
    "normal_labels = np.array([0 for _ in range(len(normal_scans))])"
   ]
  },
  {
   "cell_type": "code",
   "execution_count": 24,
   "id": "c621cdbc-cc84-4548-a4bb-0b0b077e3867",
   "metadata": {
    "tags": []
   },
   "outputs": [
    {
     "data": {
      "text/plain": [
       "(451, 128, 128, 64)"
      ]
     },
     "execution_count": 24,
     "metadata": {},
     "output_type": "execute_result"
    }
   ],
   "source": [
    "abnormal_scans.shape"
   ]
  },
  {
   "cell_type": "markdown",
   "id": "9c469307-cea5-4f99-aaf4-2fbf230fcb10",
   "metadata": {},
   "source": [
    " data augmentation"
   ]
  },
  {
   "cell_type": "markdown",
   "id": "bda4b691-23d2-49bb-96ff-8e6e9d25fb71",
   "metadata": {},
   "source": [
    "create neural network"
   ]
  },
  {
   "cell_type": "code",
   "execution_count": 3,
   "id": "5c633154-ccb1-4de5-a822-8171be39df91",
   "metadata": {},
   "outputs": [],
   "source": [
    "import matplotlib.pyplot as plt\n",
    "%matplotlib inline"
   ]
  },
  {
   "cell_type": "code",
   "execution_count": 4,
   "id": "3a174538-3a97-4bd2-adf2-0ea9682d80c8",
   "metadata": {},
   "outputs": [],
   "source": [
    "mri_file ='wCF_001_MRI_sMRI_CF_001_brain.nii.gz'\n",
    "img = nib.load(mri_file)"
   ]
  },
  {
   "cell_type": "code",
   "execution_count": 5,
   "id": "f6030fed-4d45-4196-98c3-ae846b4dc0c4",
   "metadata": {},
   "outputs": [
    {
     "data": {
      "text/plain": [
       "nibabel.nifti1.Nifti1Image"
      ]
     },
     "execution_count": 5,
     "metadata": {},
     "output_type": "execute_result"
    }
   ],
   "source": [
    "type(img)"
   ]
  },
  {
   "cell_type": "code",
   "execution_count": 6,
   "id": "7a51c6d8-d432-4e6b-90d7-d7223199014b",
   "metadata": {},
   "outputs": [
    {
     "data": {
      "text/plain": [
       "(79, 95, 79)"
      ]
     },
     "execution_count": 6,
     "metadata": {},
     "output_type": "execute_result"
    }
   ],
   "source": [
    "img.shape# 3D (anatomical) scan\n",
    "#79 voxels in first dim 95 voxels in the second dimension, and 79 voxels in the third dimension."
   ]
  },
  {
   "cell_type": "code",
   "execution_count": 7,
   "id": "0628feef-636f-42ea-b5f0-3c9c346d8fae",
   "metadata": {},
   "outputs": [
    {
     "name": "stdout",
     "output_type": "stream",
     "text": [
      "(2.0, 2.0, 2.0)\n",
      "('mm', 'sec')\n"
     ]
    }
   ],
   "source": [
    "print(img.header.get_zooms())\n",
    "print(img.header.get_xyzt_units())"
   ]
  },
  {
   "cell_type": "code",
   "execution_count": 8,
   "id": "397bbd2c-f5a9-44cc-9ffd-b4e8ff3a622a",
   "metadata": {},
   "outputs": [],
   "source": [
    "img_data=img.get_fdata()"
   ]
  },
  {
   "cell_type": "code",
   "execution_count": 9,
   "id": "1b7b6d08-bc2d-46b0-a87f-1d83c316b445",
   "metadata": {},
   "outputs": [
    {
     "data": {
      "text/plain": [
       "(95, 79)"
      ]
     },
     "execution_count": 9,
     "metadata": {},
     "output_type": "execute_result"
    }
   ],
   "source": [
    "sampel_cut=img_data[:50,:50:50]\n",
    "img_data[30,:,:].shape"
   ]
  },
  {
   "cell_type": "code",
   "execution_count": 1,
   "id": "f07bf11c-05a2-4d21-a756-06e4e8cc9343",
   "metadata": {},
   "outputs": [],
   "source": [
    "import os \n",
    "os.environ[\"KMP_DUPLICATE_LIB_OK\"]=\"TRUE\"#matplotlib error kernel dies when using pyplot"
   ]
  },
  {
   "cell_type": "code",
   "execution_count": 17,
   "id": "ec98a428-fb3a-443d-b66b-5d5d1f7258f9",
   "metadata": {},
   "outputs": [
    {
     "data": {
      "image/png": "[encoded data removed]",
      "text/plain": [
       "<Figure size 640x480 with 2 Axes>"
      ]
     },
     "metadata": {},
     "output_type": "display_data"
    }
   ],
   "source": [
    "plt.imshow(img_data[:,:,50].T, cmap='gray', origin='lower')\n",
    "plt.xlabel('First axis')\n",
    "plt.ylabel('Second axis')\n",
    "plt.colorbar(label='Signal intensity')\n",
    "plt.show()"
   ]
  },
  {
   "cell_type": "code",
   "execution_count": 13,
   "id": "5a45e85b-57e4-4042-8a5f-513c4d062a83",
   "metadata": {},
   "outputs": [
    {
     "data": {
      "text/plain": [
       "(79, 95, 79)"
      ]
     },
     "execution_count": 13,
     "metadata": {},
     "output_type": "execute_result"
    }
   ],
   "source": [
    "img_data.shape"
   ]
  },
  {
   "cell_type": "code",
   "execution_count": 21,
   "id": "b45974f0-85f7-4c33-9829-1dea1b82dc8e",
   "metadata": {},
   "outputs": [
    {
     "data": {
      "image/png": "[encoded data removed]",
      "text/plain": [
       "<Figure size 1200x500 with 2 Axes>"
      ]
     },
     "metadata": {},
     "output_type": "display_data"
    }
   ],
   "source": [
    "fwhm = 10\n",
    "voxelsize = 6\n",
    "\n",
    "sigma = fwhm / (np.sqrt(8 * np.log(2)) * voxelsize)\n",
    "smoothed_vol = gaussian_filter(img_data, sigma=sigma)\n",
    "\n",
    "# Let's plot both the unsmoothed and smoothed volume\n",
    "plt.figure(figsize=(12, 5))\n",
    "plt.subplot(1, 2, 1)\n",
    "plt.imshow(img_data[:, :, 30], cmap='gray') # And we'll pick the 11th axial slice to visualize\n",
    "plt.axis('off')\n",
    "plt.title(\"Unsmoothed volume\\n\", fontsize=15)\n",
    "\n",
    "plt.subplot(1, 2, 2)\n",
    "plt.imshow(smoothed_vol[:, :, 30], cmap='gray')\n",
    "plt.axis('off')\n",
    "plt.title('Smoothed volume\\n($\\sigma = %.1f; FWHM = %s_{mm}$)' % (sigma, fwhm), fontsize=15)\n",
    "plt.show()"
   ]
  },
  {
   "cell_type": "code",
   "execution_count": 22,
   "id": "2d95ae04-f8e8-49cf-9e06-22854b77ad78",
   "metadata": {},
   "outputs": [
    {
     "name": "stderr",
     "output_type": "stream",
     "text": [
      "C:\\Users\\syeda\\anaconda3\\envs\\tf2\\lib\\site-packages\\intensity_normalization\\normalize\\base.py:89: UserWarning: Data contains negative values; skull-stripped functionality assumes the foreground is all positive. Provide the brain mask if otherwise.\n",
      "  warnings.warn(msg)\n"
     ]
    }
   ],
   "source": [
    "fcm_norm = FCMNormalize(tissue_type=TissueType.WM)\n",
    "normalized = fcm_norm(img_data)"
   ]
  },
  {
   "cell_type": "code",
   "execution_count": 24,
   "id": "9d65b327-4f0b-4054-9205-bac4173e6ab4",
   "metadata": {},
   "outputs": [],
   "source": [
    "mask = nib.load(\"brainmask.nii\").get_fdata()"
   ]
  },
  {
   "cell_type": "code",
   "execution_count": 25,
   "id": "56eb8855-bf24-4961-9a1d-cab2ecaff11f",
   "metadata": {},
   "outputs": [
    {
     "data": {
      "text/plain": [
       "(91, 109, 91)"
      ]
     },
     "execution_count": 25,
     "metadata": {},
     "output_type": "execute_result"
    }
   ],
   "source": [
    "mask.shape"
   ]
  },
  {
   "cell_type": "code",
   "execution_count": 56,
   "id": "2651e352-8ee2-4533-b6ae-c145d125aed1",
   "metadata": {},
   "outputs": [
    {
     "data": {
      "text/plain": [
       "(-0.5, 94.5, 78.5, -0.5)"
      ]
     },
     "execution_count": 56,
     "metadata": {},
     "output_type": "execute_result"
    },
    {
     "data": {
      "image/png": "[encoded data removed]",
      "text/plain": [
       "<Figure size 1200x500 with 1 Axes>"
      ]
     },
     "metadata": {},
     "output_type": "display_data"
    }
   ],
   "source": [
    "# Let's plot both the unsmoothed and smoothed volume\n",
    "plt.figure(figsize=(12, 5))\n",
    "plt.subplot(1, 2, 1)\n",
    "plt.imshow(mask[12:,14:, 25], cmap='gray') # And we'll pick the 11th axial slice to visualize\n",
    "plt.axis('off')"
   ]
  },
  {
   "cell_type": "code",
   "execution_count": 57,
   "id": "625d698b-0c54-433d-bae6-fe38a14af049",
   "metadata": {},
   "outputs": [
    {
     "data": {
      "text/plain": [
       "(79, 95)"
      ]
     },
     "execution_count": 57,
     "metadata": {},
     "output_type": "execute_result"
    }
   ],
   "source": [
    "mask[12:, 14:, 50].shape"
   ]
  },
  {
   "cell_type": "code",
   "execution_count": 58,
   "id": "d4769e6a-67a1-409b-8ea0-37623f9d75dc",
   "metadata": {},
   "outputs": [
    {
     "data": {
      "text/plain": [
       "(79, 95, 79)"
      ]
     },
     "execution_count": 58,
     "metadata": {},
     "output_type": "execute_result"
    }
   ],
   "source": [
    "img_data.shape"
   ]
  },
  {
   "cell_type": "code",
   "execution_count": 59,
   "id": "41b89028-0f5b-471d-aa8e-cf2278833da5",
   "metadata": {},
   "outputs": [
    {
     "data": {
      "text/plain": [
       "(79, 95)"
      ]
     },
     "execution_count": 59,
     "metadata": {},
     "output_type": "execute_result"
    }
   ],
   "source": [
    "img_data[:, :, 30].shape"
   ]
  },
  {
   "cell_type": "code",
   "execution_count": 64,
   "id": "a051fef6-d85e-4d54-877b-a5e0f7cd6132",
   "metadata": {},
   "outputs": [
    {
     "ename": "TypeError",
     "evalue": "Axis must be specified when shapes of a and weights differ.",
     "output_type": "error",
     "traceback": [
      "\u001b[1;31m---------------------------------------------------------------------------\u001b[0m",
      "\u001b[1;31mTypeError\u001b[0m                                 Traceback (most recent call last)",
      "Cell \u001b[1;32mIn[64], line 3\u001b[0m\n\u001b[0;32m      1\u001b[0m normalized_t1w \u001b[38;5;241m=\u001b[39m fcm_norm(img_data[:, :, \u001b[38;5;241m30\u001b[39m],mask[\u001b[38;5;241m12\u001b[39m:,\u001b[38;5;241m14\u001b[39m:, \u001b[38;5;241m25\u001b[39m])\n\u001b[0;32m      2\u001b[0m \u001b[38;5;66;03m# the WM mask is an attribute in the class, so normalize the t2 with:\u001b[39;00m\n\u001b[1;32m----> 3\u001b[0m normalized_t2w \u001b[38;5;241m=\u001b[39m \u001b[43mfcm_norm\u001b[49m\u001b[43m(\u001b[49m\u001b[43mnormalized\u001b[49m\u001b[43m,\u001b[49m\u001b[43m \u001b[49m\u001b[43mmodality\u001b[49m\u001b[38;5;241;43m=\u001b[39;49m\u001b[43mModality\u001b[49m\u001b[38;5;241;43m.\u001b[39;49m\u001b[43mT2\u001b[49m\u001b[43m)\u001b[49m\n",
      "File \u001b[1;32m~\\anaconda3\\envs\\tf2\\lib\\site-packages\\intensity_normalization\\normalize\\base.py:49\u001b[0m, in \u001b[0;36mNormalizeMixin.__call__\u001b[1;34m(self, image, mask, modality, **kwargs)\u001b[0m\n\u001b[0;32m     40\u001b[0m \u001b[38;5;28;01mdef\u001b[39;00m \u001b[38;5;21m__call__\u001b[39m(\n\u001b[0;32m     41\u001b[0m     \u001b[38;5;28mself\u001b[39m,\n\u001b[0;32m     42\u001b[0m     image: intnormt\u001b[38;5;241m.\u001b[39mImageLike,\n\u001b[1;32m   (...)\u001b[0m\n\u001b[0;32m     47\u001b[0m     \u001b[38;5;241m*\u001b[39m\u001b[38;5;241m*\u001b[39mkwargs: typing\u001b[38;5;241m.\u001b[39mAny,\n\u001b[0;32m     48\u001b[0m ) \u001b[38;5;241m-\u001b[39m\u001b[38;5;241m>\u001b[39m intnormt\u001b[38;5;241m.\u001b[39mImageLike:\n\u001b[1;32m---> 49\u001b[0m     \u001b[38;5;28;01mreturn\u001b[39;00m \u001b[38;5;28;43mself\u001b[39;49m\u001b[38;5;241;43m.\u001b[39;49m\u001b[43mnormalize_image\u001b[49m\u001b[43m(\u001b[49m\u001b[43mimage\u001b[49m\u001b[43m,\u001b[49m\u001b[43m \u001b[49m\u001b[43mmask\u001b[49m\u001b[43m,\u001b[49m\u001b[43m \u001b[49m\u001b[43mmodality\u001b[49m\u001b[38;5;241;43m=\u001b[39;49m\u001b[43mmodality\u001b[49m\u001b[43m)\u001b[49m\n",
      "File \u001b[1;32m~\\anaconda3\\envs\\tf2\\lib\\site-packages\\intensity_normalization\\normalize\\base.py:158\u001b[0m, in \u001b[0;36mLocationScaleMixin.normalize_image\u001b[1;34m(self, image, mask, modality)\u001b[0m\n\u001b[0;32m    156\u001b[0m \u001b[38;5;28mself\u001b[39m\u001b[38;5;241m.\u001b[39msetup(image, mask, modality\u001b[38;5;241m=\u001b[39mmodality)\n\u001b[0;32m    157\u001b[0m loc \u001b[38;5;241m=\u001b[39m \u001b[38;5;28mself\u001b[39m\u001b[38;5;241m.\u001b[39mcalculate_location(image, mask, modality\u001b[38;5;241m=\u001b[39mmodality)\n\u001b[1;32m--> 158\u001b[0m scale \u001b[38;5;241m=\u001b[39m \u001b[38;5;28;43mself\u001b[39;49m\u001b[38;5;241;43m.\u001b[39;49m\u001b[43mcalculate_scale\u001b[49m\u001b[43m(\u001b[49m\u001b[43mimage\u001b[49m\u001b[43m,\u001b[49m\u001b[43m \u001b[49m\u001b[43mmask\u001b[49m\u001b[43m,\u001b[49m\u001b[43m \u001b[49m\u001b[43mmodality\u001b[49m\u001b[38;5;241;43m=\u001b[39;49m\u001b[43mmodality\u001b[49m\u001b[43m)\u001b[49m\n\u001b[0;32m    159\u001b[0m \u001b[38;5;28mself\u001b[39m\u001b[38;5;241m.\u001b[39mteardown()\n\u001b[0;32m    160\u001b[0m normalized: intnormt\u001b[38;5;241m.\u001b[39mImageLike \u001b[38;5;241m=\u001b[39m (image \u001b[38;5;241m-\u001b[39m loc) \u001b[38;5;241m*\u001b[39m (\u001b[38;5;28mself\u001b[39m\u001b[38;5;241m.\u001b[39mnorm_value \u001b[38;5;241m/\u001b[39m scale)\n",
      "File \u001b[1;32m~\\anaconda3\\envs\\tf2\\lib\\site-packages\\intensity_normalization\\normalize\\fcm.py:73\u001b[0m, in \u001b[0;36mFCMNormalize.calculate_scale\u001b[1;34m(self, image, mask, modality)\u001b[0m\n\u001b[0;32m     71\u001b[0m     tissue_mean \u001b[38;5;241m=\u001b[39m \u001b[38;5;28mfloat\u001b[39m(np\u001b[38;5;241m.\u001b[39maverage(image, weights\u001b[38;5;241m=\u001b[39m\u001b[38;5;28mself\u001b[39m\u001b[38;5;241m.\u001b[39mtissue_membership))\n\u001b[0;32m     72\u001b[0m \u001b[38;5;28;01melif\u001b[39;00m modality \u001b[38;5;241m!=\u001b[39m intnormt\u001b[38;5;241m.\u001b[39mModality\u001b[38;5;241m.\u001b[39mT1 \u001b[38;5;129;01mand\u001b[39;00m mask \u001b[38;5;129;01mis\u001b[39;00m \u001b[38;5;28;01mNone\u001b[39;00m \u001b[38;5;129;01mand\u001b[39;00m \u001b[38;5;28mself\u001b[39m\u001b[38;5;241m.\u001b[39mis_fit:\n\u001b[1;32m---> 73\u001b[0m     tissue_mean \u001b[38;5;241m=\u001b[39m \u001b[38;5;28mfloat\u001b[39m(\u001b[43mnp\u001b[49m\u001b[38;5;241;43m.\u001b[39;49m\u001b[43maverage\u001b[49m\u001b[43m(\u001b[49m\u001b[43mimage\u001b[49m\u001b[43m,\u001b[49m\u001b[43m \u001b[49m\u001b[43mweights\u001b[49m\u001b[38;5;241;43m=\u001b[39;49m\u001b[38;5;28;43mself\u001b[39;49m\u001b[38;5;241;43m.\u001b[39;49m\u001b[43mtissue_membership\u001b[49m\u001b[43m)\u001b[49m)\n\u001b[0;32m     74\u001b[0m \u001b[38;5;28;01melif\u001b[39;00m modality \u001b[38;5;241m!=\u001b[39m intnormt\u001b[38;5;241m.\u001b[39mModality\u001b[38;5;241m.\u001b[39mT1 \u001b[38;5;129;01mand\u001b[39;00m mask \u001b[38;5;129;01mis\u001b[39;00m \u001b[38;5;129;01mnot\u001b[39;00m \u001b[38;5;28;01mNone\u001b[39;00m:\n\u001b[0;32m     75\u001b[0m     tissue_mean \u001b[38;5;241m=\u001b[39m \u001b[38;5;28mfloat\u001b[39m(np\u001b[38;5;241m.\u001b[39maverage(image, weights\u001b[38;5;241m=\u001b[39mmask))\n",
      "File \u001b[1;32m<__array_function__ internals>:180\u001b[0m, in \u001b[0;36maverage\u001b[1;34m(*args, **kwargs)\u001b[0m\n",
      "File \u001b[1;32m~\\anaconda3\\envs\\tf2\\lib\\site-packages\\numpy\\lib\\function_base.py:508\u001b[0m, in \u001b[0;36maverage\u001b[1;34m(a, axis, weights, returned)\u001b[0m\n\u001b[0;32m    506\u001b[0m \u001b[38;5;28;01mif\u001b[39;00m a\u001b[38;5;241m.\u001b[39mshape \u001b[38;5;241m!=\u001b[39m wgt\u001b[38;5;241m.\u001b[39mshape:\n\u001b[0;32m    507\u001b[0m     \u001b[38;5;28;01mif\u001b[39;00m axis \u001b[38;5;129;01mis\u001b[39;00m \u001b[38;5;28;01mNone\u001b[39;00m:\n\u001b[1;32m--> 508\u001b[0m         \u001b[38;5;28;01mraise\u001b[39;00m \u001b[38;5;167;01mTypeError\u001b[39;00m(\n\u001b[0;32m    509\u001b[0m             \u001b[38;5;124m\"\u001b[39m\u001b[38;5;124mAxis must be specified when shapes of a and weights \u001b[39m\u001b[38;5;124m\"\u001b[39m\n\u001b[0;32m    510\u001b[0m             \u001b[38;5;124m\"\u001b[39m\u001b[38;5;124mdiffer.\u001b[39m\u001b[38;5;124m\"\u001b[39m)\n\u001b[0;32m    511\u001b[0m     \u001b[38;5;28;01mif\u001b[39;00m wgt\u001b[38;5;241m.\u001b[39mndim \u001b[38;5;241m!=\u001b[39m \u001b[38;5;241m1\u001b[39m:\n\u001b[0;32m    512\u001b[0m         \u001b[38;5;28;01mraise\u001b[39;00m \u001b[38;5;167;01mTypeError\u001b[39;00m(\n\u001b[0;32m    513\u001b[0m             \u001b[38;5;124m\"\u001b[39m\u001b[38;5;124m1D weights expected when shapes of a and weights differ.\u001b[39m\u001b[38;5;124m\"\u001b[39m)\n",
      "\u001b[1;31mTypeError\u001b[0m: Axis must be specified when shapes of a and weights differ."
     ]
    }
   ],
   "source": [
    "normalized_t1w = fcm_norm(img_data[:, :, 30],mask[12:,14:, 25])\n",
    "# the WM mask is an attribute in the class, so normalize the t2 with:\n",
    "normalized_t2w = fcm_norm(normalized, modality=Modality.T2)"
   ]
  },
  {
   "cell_type": "code",
   "execution_count": 80,
   "id": "1132f337-abb7-401f-8a6e-0a902336c614",
   "metadata": {},
   "outputs": [],
   "source": [
    "from intensity_normalization.normalize.zscore import ZScoreNormalize"
   ]
  },
  {
   "cell_type": "code",
   "execution_count": 83,
   "id": "6eb695c5-899a-426a-bf29-7de7761004ce",
   "metadata": {},
   "outputs": [],
   "source": [
    "from intensity_normalization.normalize.nyul import NyulNormalize"
   ]
  },
  {
   "cell_type": "code",
   "execution_count": 84,
   "id": "aa969491-3d8b-42ae-90c5-5fd91f000102",
   "metadata": {},
   "outputs": [],
   "source": [
    "new_nyul_normalizer = NyulNormalize()"
   ]
  },
  {
   "cell_type": "code",
   "execution_count": null,
   "id": "47849904-48e0-4b43-8397-1e0c596cd5b5",
   "metadata": {},
   "outputs": [],
   "source": []
  }
 ],
 "metadata": {
  "kernelspec": {
   "display_name": "Python 3 (ipykernel)",
   "language": "python",
   "name": "python3"
  },
  "language_info": {
   "codemirror_mode": {
    "name": "ipython",
    "version": 3
   },
   "file_extension": ".py",
   "mimetype": "text/x-python",
   "name": "python",
   "nbconvert_exporter": "python",
   "pygments_lexer": "ipython3",
   "version": "3.9.12"
  }
 },
 "nbformat": 4,
 "nbformat_minor": 5
}
